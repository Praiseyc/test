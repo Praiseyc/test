{
 "cells": [
  {
   "cell_type": "code",
   "execution_count": 1,
   "id": "90e58924",
   "metadata": {},
   "outputs": [
    {
     "name": "stdout",
     "output_type": "stream",
     "text": [
      "🔍 DFS 탐색 시작 (알파벳 우선순위 기준)\n",
      "➡️ 경로: A\n",
      "➡️ 경로: A -> B\n",
      "➡️ 경로: A -> B -> D\n",
      "➡️ 경로: A -> B -> D -> H\n",
      "➡️ 경로: A -> B -> D -> I\n",
      "➡️ 경로: A -> B -> E\n",
      "➡️ 경로: A -> B -> E -> J\n",
      "➡️ 경로: A -> C\n",
      "➡️ 경로: A -> C -> F\n",
      "➡️ 경로: A -> C -> G\n"
     ]
    }
   ],
   "source": [
    "graph = {\n",
    "    'A': ['B', 'C'],\n",
    "    'B': ['D', 'E'],\n",
    "    'C': ['F', 'G'],\n",
    "    'D': ['H', 'I'],\n",
    "    'E': ['J'],\n",
    "    'F': [], 'G': [], 'H': [], 'I': [], 'J': []\n",
    "}\n",
    "\n",
    "# 깊이 우선 탐색(DFS) 함수 정의\n",
    "def dfs(node, visited=None, path_trace=None):\n",
    "    # 방문한 노드를 기록하는 리스트, 최초 호출 시 초기화\n",
    "    if visited is None:\n",
    "        visited = []\n",
    "\n",
    "    # 현재까지 탐색 경로를 저장하는 리스트, 재귀적으로 유지\n",
    "    if path_trace is None:\n",
    "        path_trace = []\n",
    "\n",
    "    # 현재 노드를 방문 처리\n",
    "    visited.append(node)\n",
    "\n",
    "    # 경로 추적을 위해 현재 노드를 경로에 추가\n",
    "    path_trace.append(node)\n",
    "\n",
    "    # 현재까지의 탐색 경로 출력\n",
    "    print(\"➡️ 경로:\", \" -> \".join(path_trace))\n",
    "\n",
    "    # 현재 노드에 연결된 모든 이웃 노드를 탐색 (알파벳 순 정렬)\n",
    "    for neighbor in sorted(graph[node]):\n",
    "        if neighbor not in visited:  # 아직 방문하지 않은 경우에만\n",
    "            dfs(neighbor, visited, path_trace)  # 재귀적으로 탐색\n",
    "\n",
    "    # 해당 노드에서의 탐색이 끝나면 경로에서 제거 (되돌아가기)\n",
    "    path_trace.pop()\n",
    "\n",
    "# 실행 시작\n",
    "print(\"🔍 DFS 탐색 시작 (알파벳 우선순위 기준)\")\n",
    "dfs('A')"
   ]
  },
  {
   "cell_type": "code",
   "execution_count": null,
   "id": "6396cd8c",
   "metadata": {},
   "outputs": [],
   "source": [
    "# DFS는 깊이 우선 탐색 현재 노드에서 가장 먼저 방문 가능한 자식 노드를 따라 깊게 재귀적으로 들어간다.\n",
    "# 방문 순서를 알파벳 오름차순으로 정렬하고 있으므로 A → B → D → H 순으로 가장 먼저 도달하게 된다.\n",
    "# 따라서 첫번째 경로는  A → B → D → H 이다"
   ]
  },
  {
   "cell_type": "code",
   "execution_count": null,
   "id": "2873c8cf",
   "metadata": {},
   "outputs": [],
   "source": []
  },
  {
   "cell_type": "code",
   "execution_count": null,
   "id": "1bd26081",
   "metadata": {},
   "outputs": [],
   "source": []
  },
  {
   "cell_type": "code",
   "execution_count": null,
   "id": "aff21d79",
   "metadata": {},
   "outputs": [],
   "source": []
  }
 ],
 "metadata": {
  "kernelspec": {
   "display_name": "Python 3",
   "language": "python",
   "name": "python3"
  },
  "language_info": {
   "codemirror_mode": {
    "name": "ipython",
    "version": 3
   },
   "file_extension": ".py",
   "mimetype": "text/x-python",
   "name": "python",
   "nbconvert_exporter": "python",
   "pygments_lexer": "ipython3",
   "version": "3.13.2"
  }
 },
 "nbformat": 4,
 "nbformat_minor": 5
}
