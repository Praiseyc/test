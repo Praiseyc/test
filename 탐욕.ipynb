{
 "cells": [
  {
   "cell_type": "markdown",
   "id": "9bda0513",
   "metadata": {},
   "source": [
    "### 활동 선택 문제 (Activity Selection Problem)"
   ]
  },
  {
   "cell_type": "code",
   "execution_count": 1,
   "id": "73b0daa2",
   "metadata": {},
   "outputs": [
    {
     "name": "stdout",
     "output_type": "stream",
     "text": [
      "선택된 활동: [(1, 4), (5, 7), (8, 11), (12, 16)]\n"
     ]
    }
   ],
   "source": [
    "# 활동 선택 문제 - 끝나는 시간이 빠른 순서로 정렬\n",
    "activities = [(1, 4), (3, 5), (0, 6), (5, 7), (3, 9),\n",
    "              (5, 9), (6, 10), (8, 11), (8, 12), (2, 14), (12, 16)]\n",
    "\n",
    "# 끝나는 시간 기준으로 정렬\n",
    "activities.sort(key=lambda x: x[1])\n",
    "\n",
    "# 선택한 활동 목록\n",
    "selected = []\n",
    "\n",
    "# 마지막으로 선택된 활동의 종료 시간\n",
    "end_time = 0\n",
    "\n",
    "for activity in activities:\n",
    "    start, end = activity\n",
    "    if start >= end_time:\n",
    "        selected.append(activity)\n",
    "        end_time = end\n",
    "\n",
    "print(\"선택된 활동:\", selected)\n"
   ]
  },
  {
   "cell_type": "markdown",
   "id": "e2c08516",
   "metadata": {},
   "source": [
    "### 동전 거스름돈 문제 (Greedy Coin Change)"
   ]
  },
  {
   "cell_type": "code",
   "execution_count": 2,
   "id": "eda1af79",
   "metadata": {},
   "outputs": [
    {
     "name": "stdout",
     "output_type": "stream",
     "text": [
      "500원: 9개\n",
      "100원: 2개\n",
      "50원: 0개\n",
      "10원: 2개\n",
      "총 동전 수: 13\n"
     ]
    }
   ],
   "source": [
    "# 동전 단위와 목표 금액\n",
    "coins = [500, 100, 50, 10]\n",
    "target = 4720\n",
    "\n",
    "count = 0\n",
    "for coin in coins:\n",
    "    coin_count = target // coin\n",
    "    count += coin_count\n",
    "    target %= coin\n",
    "    print(f\"{coin}원: {coin_count}개\")\n",
    "\n",
    "print(\"총 동전 수:\", count)\n"
   ]
  },
  {
   "cell_type": "markdown",
   "id": "27f66f8b",
   "metadata": {},
   "source": [
    "### 동전 거스름돈 (사용자 정의 함수로 일반화)"
   ]
  },
  {
   "cell_type": "code",
   "execution_count": 3,
   "id": "64dbc59b",
   "metadata": {},
   "outputs": [
    {
     "name": "stdout",
     "output_type": "stream",
     "text": [
      "500원: 9개\n",
      "100원: 2개\n",
      "50원: 0개\n",
      "10원: 2개\n",
      "총 동전 수: 13\n"
     ]
    }
   ],
   "source": [
    "def greedy_coin_change(coins, amount):\n",
    "    coins.sort(reverse=True)\n",
    "    count = 0\n",
    "    for coin in coins:\n",
    "        coin_count = amount // coin\n",
    "        count += coin_count\n",
    "        amount %= coin\n",
    "        print(f\"{coin}원: {coin_count}개\")\n",
    "    return count\n",
    "\n",
    "# 예시 실행\n",
    "total_count = greedy_coin_change([500, 100, 50, 10], 4720)\n",
    "print(\"총 동전 수:\", total_count)\n"
   ]
  },
  {
   "cell_type": "markdown",
   "id": "0a3ee482",
   "metadata": {},
   "source": [
    "### Kruskal 알고리즘 (Union-Find 포함)"
   ]
  },
  {
   "cell_type": "code",
   "execution_count": 4,
   "id": "86b323ff",
   "metadata": {},
   "outputs": [
    {
     "name": "stdout",
     "output_type": "stream",
     "text": [
      "간선 (3, 4) 선택 - 비용: 7\n",
      "간선 (5, 6) 선택 - 비용: 13\n",
      "간선 (4, 6) 선택 - 비용: 23\n",
      "간선 (6, 7) 선택 - 비용: 25\n",
      "간선 (1, 2) 선택 - 비용: 29\n",
      "간선 (2, 6) 선택 - 비용: 34\n",
      "총 비용: 131\n"
     ]
    }
   ],
   "source": [
    "# Union-Find 구현\n",
    "def find_parent(parent, x):\n",
    "    if parent[x] != x:\n",
    "        parent[x] = find_parent(parent, parent[x])\n",
    "    return parent[x]\n",
    "\n",
    "def union_parent(parent, a, b):\n",
    "    a = find_parent(parent, a)\n",
    "    b = find_parent(parent, b)\n",
    "    if a < b:\n",
    "        parent[b] = a\n",
    "    else:\n",
    "        parent[a] = b\n",
    "\n",
    "# 노드 개수와 간선 리스트\n",
    "v = 7\n",
    "edges = [\n",
    "    (29, 1, 2), (75, 1, 5),\n",
    "    (35, 2, 3), (34, 2, 6),\n",
    "    (7, 3, 4), (23, 4, 6),\n",
    "    (13, 5, 6), (53, 5, 7),\n",
    "    (25, 6, 7)\n",
    "]\n",
    "\n",
    "# 가중치 기준 오름차순 정렬\n",
    "edges.sort()\n",
    "parent = [i for i in range(v + 1)]\n",
    "\n",
    "result = 0\n",
    "\n",
    "for edge in edges:\n",
    "    cost, a, b = edge\n",
    "    if find_parent(parent, a) != find_parent(parent, b):\n",
    "        union_parent(parent, a, b)\n",
    "        result += cost\n",
    "        print(f\"간선 ({a}, {b}) 선택 - 비용: {cost}\")\n",
    "\n",
    "print(\"총 비용:\", result)\n"
   ]
  }
 ],
 "metadata": {
  "kernelspec": {
   "display_name": "Python 3",
   "language": "python",
   "name": "python3"
  },
  "language_info": {
   "codemirror_mode": {
    "name": "ipython",
    "version": 3
   },
   "file_extension": ".py",
   "mimetype": "text/x-python",
   "name": "python",
   "nbconvert_exporter": "python",
   "pygments_lexer": "ipython3",
   "version": "3.13.2"
  }
 },
 "nbformat": 4,
 "nbformat_minor": 5
}
