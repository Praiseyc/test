{
 "cells": [
  {
   "cell_type": "code",
   "execution_count": null,
   "id": "df267002",
   "metadata": {},
   "outputs": [
    {
     "name": "stdout",
     "output_type": "stream",
     "text": [
      "4 (500x2 + 100x2)\n"
     ]
    }
   ],
   "source": [
    "# 🪙 사용 가능한 동전 단위들 리스트로 정의\n",
    "# 큰 단위부터 정렬되어 있어야 탐욕 알고리즘이 유효하게 작동함\n",
    "coins = [500, 400, 100]\n",
    "\n",
    "# 👍 사용자로부터 거슬러 줄 금액 N을 입력받음 (정수형으로 변환)\n",
    "n = int(input(\"거슬러 줄 금액을 입력하세요: \"))\n",
    "\n",
    "# 🧮 count: 사용된 동전 총 개수를 저장하는 변수\n",
    "# used: 각 동전 단위별 사용 개수를 기록할 리스트\n",
    "count = 0\n",
    "used = []\n",
    "\n",
    "# 🔁 각 동전 단위에 대해 반복하면서 거슬러줄 금액 계산\n",
    "for coin in coins:\n",
    "    # 현재 금액 n에서 해당 동전 단위 coin을 최대 몇 개 사용할 수 있는지 계산\n",
    "    num = n // coin\n",
    "\n",
    "    # 해당 동전이 1개 이상 사용될 경우에만 처리\n",
    "    if num > 0:\n",
    "        used.append(f\"{coin}x{num}\")   # 예: \"500x1\" 형태로 조합 기록\n",
    "        count += num                   # 전체 동전 개수 누적\n",
    "        n %= coin                      # 현재 동전 사용 후 남은 금액으로 갱신\n",
    "\n",
    "# 🎯 최종 결과 출력\n",
    "print(f\"{count} ({' + '.join(used)})\")\n"
   ]
  },
  {
   "cell_type": "markdown",
   "id": "ef5f93a6",
   "metadata": {},
   "source": [
    "### Q5-1. \n",
    "- 500원 2개, 100원 2개\n",
    "- 총 4개 동전\n",
    "\n",
    "### Q5-2.\n",
    "- 판단: 최적이 아님\n",
    "- 이유: 더 나은 조합이 존재함 (400 X 3 = 1200 , 동전 3개만 사용) \n",
    "\n",
    "\n",
    "### Q5-3.\n",
    "- 탐욕 알고리즘(Greedy Algorithm)은 다음 두 조건을 만족할 때만 최적해를 보장할 수 있다:\n",
    "- 1. 탐욕적 선택 속성 : 지금 가장 좋아 보이는 선택이 전체 최적해의 일부가 될 수 있는가?\n",
    "- 2. 최적 부분 구조 : 부분 문제의 최적해들을 조합하면 전체 문제의 최적해가 되는가? \n",
    "\n",
    "- 이 문제에서 탐욕 알고리즘의 경우 큰 단위(500원)를 우선 선택하기 때문에 400원짜리를 고려하지 않았다. 즉, 탐욕적 선택이 이후 더 좋은 선택을 하는 것을 방해하여 최적해에서 멀어졌다.\n",
    "- 이 문제처럼 동전 단위가 서로 배수 관계가 아니거나, 예외적인 구성일 경우 탐욕은 오히려 비효율적인 결과를 낳을 수 있다."
   ]
  }
 ],
 "metadata": {
  "kernelspec": {
   "display_name": "Python 3",
   "language": "python",
   "name": "python3"
  },
  "language_info": {
   "codemirror_mode": {
    "name": "ipython",
    "version": 3
   },
   "file_extension": ".py",
   "mimetype": "text/x-python",
   "name": "python",
   "nbconvert_exporter": "python",
   "pygments_lexer": "ipython3",
   "version": "3.13.2"
  }
 },
 "nbformat": 4,
 "nbformat_minor": 5
}
