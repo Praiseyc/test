{
 "cells": [
  {
   "cell_type": "code",
   "execution_count": 1,
   "id": "fa35f210",
   "metadata": {},
   "outputs": [],
   "source": [
    "graph = {\n",
    "    'A': ['B', 'C'],\n",
    "    'B': ['D', 'E'],\n",
    "    'C': ['F', 'G'],\n",
    "    'D': [], 'E': [], 'F': [], 'G': []\n",
    "}"
   ]
  },
  {
   "cell_type": "code",
   "execution_count": 2,
   "id": "738d13b2",
   "metadata": {},
   "outputs": [
    {
     "name": "stdout",
     "output_type": "stream",
     "text": [
      "\n",
      "🔍 BFS 탐색 결과 (알파벳 우선순위 기준):\n",
      "👣방문: A\n",
      "📂 큐 내용 (리스트 형태): ['B', 'C']\n",
      "👣방문: B\n",
      "📂 큐 내용 (리스트 형태): ['C', 'D', 'E']\n",
      "👣방문: C\n",
      "📂 큐 내용 (리스트 형태): ['D', 'E', 'F', 'G']\n",
      "👣방문: D\n",
      "📂 큐 내용 (리스트 형태): ['E', 'F', 'G']\n",
      "👣방문: E\n",
      "📂 큐 내용 (리스트 형태): ['F', 'G']\n",
      "👣방문: F\n",
      "📂 큐 내용 (리스트 형태): ['G']\n",
      "👣방문: G\n",
      "📂 큐 내용 (리스트 형태): []\n",
      "📌 순서: ['A', 'B', 'C', 'D', 'E', 'F', 'G']\n"
     ]
    }
   ],
   "source": [
    "from collections import deque\n",
    "\n",
    "# 너비 우선 탐색 함수\n",
    "def bfs(start):\n",
    "    visited = []               # 방문한 노드 기록\n",
    "    queue = deque([start])     # 큐에 시작 노드 삽입\n",
    "\n",
    "    while queue:\n",
    "        node = queue.popleft()  # 큐에서 가장 먼저 들어온 노드를 꺼냄\n",
    "        if node not in visited:\n",
    "            print(f\"👣방문: {node}\")\n",
    "            visited.append(node)\n",
    "\n",
    "            # 알파벳 순으로 인접 노드를 큐에 추가\n",
    "            queue.extend(sorted(graph[node]))\n",
    "            print(\"📂 큐 내용 (리스트 형태):\", list(queue))\n",
    "\n",
    "    return visited\n",
    "\n",
    "# 실행\n",
    "print(\"\\n🔍 BFS 탐색 결과 (알파벳 우선순위 기준):\")\n",
    "result = bfs('A')\n",
    "print(\"📌 순서:\", result)"
   ]
  },
  {
   "cell_type": "markdown",
   "id": "6130e0e7",
   "metadata": {},
   "source": [
    "## 큐 동작 흐름 설명\n",
    "\n",
    "1. \n",
    "pop A → 방문 [A]\n",
    "\n",
    "인접 노드 B, C → 알파벳 순: [B, C]\n",
    "\n",
    "queue = [B, C]\n",
    "\n",
    "2. \n",
    "pop B → 방문 [A, B]\n",
    "\n",
    "인접 노드 D, E → 정렬: [D, E]\n",
    "\n",
    "queue = [C, D, E]\n",
    "\n",
    "3. \n",
    "pop C → 방문 [A, B, C]\n",
    "\n",
    "인접 노드 F, G → 정렬: [F, G]\n",
    "\n",
    "queue = [D, E, F, G]\n",
    "\n",
    "4. \n",
    "pop D → 방문 [A, B, C, D]\n",
    "\n",
    "no children\n",
    "\n",
    "queue = [E, F, G]\n",
    "\n",
    "5. \n",
    "pop E →  다섯 번째 방문 노드\n",
    "\n",
    "방문 순서: A → B → C → D → E\n",
    "\n",
    "따라서 다섯 번째로 방문한 노드: E"
   ]
  }
 ],
 "metadata": {
  "kernelspec": {
   "display_name": "Python 3",
   "language": "python",
   "name": "python3"
  },
  "language_info": {
   "codemirror_mode": {
    "name": "ipython",
    "version": 3
   },
   "file_extension": ".py",
   "mimetype": "text/x-python",
   "name": "python",
   "nbconvert_exporter": "python",
   "pygments_lexer": "ipython3",
   "version": "3.13.2"
  }
 },
 "nbformat": 4,
 "nbformat_minor": 5
}
